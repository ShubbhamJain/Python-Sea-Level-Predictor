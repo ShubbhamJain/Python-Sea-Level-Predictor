{
 "cells": [
  {
   "cell_type": "code",
   "execution_count": null,
   "metadata": {},
   "outputs": [],
   "source": [
    "import pandas as pd\n",
    "import matplotlib.pyplot as plt\n",
    "from scipy.stats import linregress\n",
    "\n",
    "df = pd.read_csv('./epa-sea-level.csv')"
   ]
  },
  {
   "cell_type": "code",
   "execution_count": null,
   "metadata": {},
   "outputs": [],
   "source": [
    "import numpy as np\n",
    "colors = np.random.rand(len(df))\n",
    "fig = plt.scatter(x=df['Year'], y=df['CSIRO Adjusted Sea Level'], c=colors)\n",
    "\n",
    "result = linregress(df[\"Year\"], df[\"CSIRO Adjusted Sea Level\"])\n",
    "new_xValues = pd.Series(range(df[\"Year\"].min(), 2051))\n",
    "plt.plot(new_xValues, result.slope * new_xValues + result.intercept, \"r\")\n",
    "\n",
    "new_df = df[df[\"Year\"] >= 2000]\n",
    "x2 = new_df[\"Year\"]\n",
    "y2 = new_df[\"CSIRO Adjusted Sea Level\"]\n",
    "new_x2Values = pd.Series(range(x2.min(), 2051))\n",
    "result2 = linregress(x2, y2)\n",
    "plt.plot(new_x2Values, result2.slope * new_x2Values + result2.intercept, \"g\")\n",
    "\n",
    "ax = plt.gca()\n",
    "ax.set(xlabel=\"Year\", ylabel=\"Sea Level (inches)\", title=\"Rise in Sea Level\")"
   ]
  }
 ],
 "metadata": {
  "interpreter": {
   "hash": "b0fa6594d8f4cbf19f97940f81e996739fb7646882a419484c72d19e05852a7e"
  },
  "kernelspec": {
   "display_name": "Python 3.9.10 64-bit",
   "language": "python",
   "name": "python3"
  },
  "language_info": {
   "codemirror_mode": {
    "name": "ipython",
    "version": 3
   },
   "file_extension": ".py",
   "mimetype": "text/x-python",
   "name": "python",
   "nbconvert_exporter": "python",
   "pygments_lexer": "ipython3",
   "version": "3.9.10"
  },
  "orig_nbformat": 4
 },
 "nbformat": 4,
 "nbformat_minor": 2
}
